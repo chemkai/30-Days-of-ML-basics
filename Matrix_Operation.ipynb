{
  "nbformat": 4,
  "nbformat_minor": 0,
  "metadata": {
    "colab": {
      "provenance": [],
      "authorship_tag": "ABX9TyNjVG9yEdh4mh5SpdXrcrDr",
      "include_colab_link": true
    },
    "kernelspec": {
      "name": "python3",
      "display_name": "Python 3"
    },
    "language_info": {
      "name": "python"
    }
  },
  "cells": [
    {
      "cell_type": "markdown",
      "metadata": {
        "id": "view-in-github",
        "colab_type": "text"
      },
      "source": [
        "<a href=\"https://colab.research.google.com/github/chemkai/30-Days-of-ML-basics/blob/main/Matrix_Operation.ipynb\" target=\"_parent\"><img src=\"https://colab.research.google.com/assets/colab-badge.svg\" alt=\"Open In Colab\"/></a>"
      ]
    },
    {
      "cell_type": "code",
      "execution_count": 1,
      "metadata": {
        "id": "TNbqAdZ-Gzkv"
      },
      "outputs": [],
      "source": [
        "import numpy as np"
      ]
    },
    {
      "cell_type": "markdown",
      "source": [
        "**Matrix Addition**\n",
        "**Note**\n",
        " * two matrices can be added only if they're of same shape"
      ],
      "metadata": {
        "id": "-_6fH9VwHTzM"
      }
    },
    {
      "cell_type": "code",
      "source": [
        "# Creating two matrices\n",
        "A = np.array([[2,3], [4,5]])\n",
        "B = np.array([[4,5], [6,7]])\n",
        "print(\"A\\n\", A)\n",
        "print(\"B\\n\",B)"
      ],
      "metadata": {
        "colab": {
          "base_uri": "https://localhost:8080/"
        },
        "id": "3ttPJqsJHTJx",
        "outputId": "27a358f2-55c1-41a9-8157-e88b0c190762"
      },
      "execution_count": 2,
      "outputs": [
        {
          "output_type": "stream",
          "name": "stdout",
          "text": [
            "A\n",
            " [[2 3]\n",
            " [4 5]]\n",
            "B\n",
            " [[4 5]\n",
            " [6 7]]\n"
          ]
        }
      ]
    },
    {
      "cell_type": "code",
      "source": [
        "sum = A+B\n",
        "print(sum)"
      ],
      "metadata": {
        "colab": {
          "base_uri": "https://localhost:8080/"
        },
        "id": "rvinocqjH_O1",
        "outputId": "d67dd7d8-e50a-481c-e1a6-520e7c1d32e8"
      },
      "execution_count": 3,
      "outputs": [
        {
          "output_type": "stream",
          "name": "stdout",
          "text": [
            "[[ 6  8]\n",
            " [10 12]]\n"
          ]
        }
      ]
    },
    {
      "cell_type": "code",
      "source": [
        "# Creating 2 matrices with random values\n",
        "matrix_1 = np.random.randint(100, size=(3,4))\n",
        "matrix_2 = np.random.randint(100, size=(3,4))\n",
        "print(\"Matrix_1\\n\\n\",matrix_1)\n",
        "print(\"\\nMatrix_2\\n\\n\",matrix_2)"
      ],
      "metadata": {
        "colab": {
          "base_uri": "https://localhost:8080/"
        },
        "id": "M_frELkCIDza",
        "outputId": "58bdc714-fedf-4077-ddb1-fcdf3fe76453"
      },
      "execution_count": 6,
      "outputs": [
        {
          "output_type": "stream",
          "name": "stdout",
          "text": [
            "Matrix_1\n",
            "\n",
            " [[69 20 12 75]\n",
            " [93 86 43 82]\n",
            " [34 43  2 89]]\n",
            "\n",
            "Matrix_2\n",
            "\n",
            " [[50 67 36 50]\n",
            " [77 64 93 77]\n",
            " [13 15 85 36]]\n"
          ]
        }
      ]
    },
    {
      "cell_type": "code",
      "source": [
        "sum = np.add(matrix_1, matrix_2)\n",
        "print(sum)"
      ],
      "metadata": {
        "colab": {
          "base_uri": "https://localhost:8080/"
        },
        "id": "9GVT0g68ItP1",
        "outputId": "fd0a58fe-b43d-4516-e3cc-ba6bdc0399a3"
      },
      "execution_count": 7,
      "outputs": [
        {
          "output_type": "stream",
          "name": "stdout",
          "text": [
            "[[119  87  48 125]\n",
            " [170 150 136 159]\n",
            " [ 47  58  87 125]]\n"
          ]
        }
      ]
    },
    {
      "cell_type": "markdown",
      "source": [
        "**Matrix subtraction**"
      ],
      "metadata": {
        "id": "LCIrjLh1JATK"
      }
    },
    {
      "cell_type": "code",
      "source": [
        "# Creating 2 matrices with random values\n",
        "matrix_1 = np.random.randint(100, size=(3,4))\n",
        "matrix_2 = np.random.randint(100, size=(3,4))\n",
        "print(\"Matrix_1\\n\\n\",matrix_1)\n",
        "print(\"\\nMatrix_2\\n\\n\",matrix_2)"
      ],
      "metadata": {
        "colab": {
          "base_uri": "https://localhost:8080/"
        },
        "id": "Y0qvKas7I6_u",
        "outputId": "80dcc607-d907-46c8-bcf2-623b61a2c02c"
      },
      "execution_count": 8,
      "outputs": [
        {
          "output_type": "stream",
          "name": "stdout",
          "text": [
            "Matrix_1\n",
            "\n",
            " [[ 7 47 99 35]\n",
            " [ 5 59 96  0]\n",
            " [56 43 47 45]]\n",
            "\n",
            "Matrix_2\n",
            "\n",
            " [[80 50 87 56]\n",
            " [25 40 27 42]\n",
            " [78 74 30 32]]\n"
          ]
        }
      ]
    },
    {
      "cell_type": "code",
      "source": [
        "sum = np.subtract(matrix_1, matrix_2)\n",
        "print(sum)"
      ],
      "metadata": {
        "colab": {
          "base_uri": "https://localhost:8080/"
        },
        "id": "p1awCzXkJIGx",
        "outputId": "c793f26c-afac-4e33-9b50-7fcc3e6f8d65"
      },
      "execution_count": 9,
      "outputs": [
        {
          "output_type": "stream",
          "name": "stdout",
          "text": [
            "[[-73  -3  12 -21]\n",
            " [-20  19  69 -42]\n",
            " [-22 -31  17  13]]\n"
          ]
        }
      ]
    },
    {
      "cell_type": "markdown",
      "source": [
        "**Mutiplying a vector with a scalar**"
      ],
      "metadata": {
        "id": "A7ZjHPFNJRln"
      }
    },
    {
      "cell_type": "code",
      "source": [
        "# Creating a matrix with random values\n",
        "matrix_1 = np.random.randint(100, size=(3,4))\n",
        "a = 6\n",
        "print(\"Matrix_1\\n\\n\",matrix_1)"
      ],
      "metadata": {
        "colab": {
          "base_uri": "https://localhost:8080/"
        },
        "id": "-fYAzgnoJMWH",
        "outputId": "af20c2b1-e483-48c6-cb70-c64d866eaf05"
      },
      "execution_count": 11,
      "outputs": [
        {
          "output_type": "stream",
          "name": "stdout",
          "text": [
            "Matrix_1\n",
            "\n",
            " [[77 58 11 77]\n",
            " [91 58 57 53]\n",
            " [98 23 51 56]]\n"
          ]
        }
      ]
    },
    {
      "cell_type": "code",
      "source": [
        "sum = np.multiply(a,matrix_1)\n",
        "print(sum)"
      ],
      "metadata": {
        "colab": {
          "base_uri": "https://localhost:8080/"
        },
        "id": "7FmFI-80Jhh5",
        "outputId": "44c0e679-0ed9-4503-d2af-d8cad4f48793"
      },
      "execution_count": 12,
      "outputs": [
        {
          "output_type": "stream",
          "name": "stdout",
          "text": [
            "[[462 348  66 462]\n",
            " [546 348 342 318]\n",
            " [588 138 306 336]]\n"
          ]
        }
      ]
    },
    {
      "cell_type": "markdown",
      "source": [
        "**Multiplying 2 matrices**\n",
        "**Note**\n",
        "* number of columns of 1st matrix must be equal to rows of 2nd matrix"
      ],
      "metadata": {
        "id": "KA1U9zL_JyVj"
      }
    },
    {
      "cell_type": "code",
      "source": [
        "# Creating 2 matrices with random values\n",
        "matrix_1 = np.random.randint(100, size=(3,4))\n",
        "matrix_2 = np.random.randint(100, size=(4,2))\n",
        "print(\"Matrix_1\\n\\n\",matrix_1)\n",
        "print(\"\\nMatrix_2\\n\\n\",matrix_2)"
      ],
      "metadata": {
        "colab": {
          "base_uri": "https://localhost:8080/"
        },
        "id": "mf-Rd8p4JqU-",
        "outputId": "233d124c-8275-45b4-8ceb-17f336d5d663"
      },
      "execution_count": 13,
      "outputs": [
        {
          "output_type": "stream",
          "name": "stdout",
          "text": [
            "Matrix_1\n",
            "\n",
            " [[49 62 44 10]\n",
            " [26 88 81 47]\n",
            " [57 22 13 26]]\n",
            "\n",
            "Matrix_2\n",
            "\n",
            " [[ 3 86]\n",
            " [31 64]\n",
            " [77 72]\n",
            " [45 72]]\n"
          ]
        }
      ]
    },
    {
      "cell_type": "code",
      "source": [
        "sum = np.dot(matrix_1, matrix_2)\n",
        "print(sum)"
      ],
      "metadata": {
        "colab": {
          "base_uri": "https://localhost:8080/"
        },
        "id": "45jpoZJxJ17z",
        "outputId": "24799ac4-bfba-4be3-f527-698d70b37d1b"
      },
      "execution_count": 15,
      "outputs": [
        {
          "output_type": "stream",
          "name": "stdout",
          "text": [
            "[[ 5907 12070]\n",
            " [11158 17084]\n",
            " [ 3024  9118]]\n"
          ]
        }
      ]
    },
    {
      "cell_type": "markdown",
      "source": [
        "**Element wise Matrix multiplication**\n",
        "**NOTE**\n",
        "* number of rows and columns of both the matrices must be equal"
      ],
      "metadata": {
        "id": "qPpgVzTnKsUT"
      }
    },
    {
      "cell_type": "code",
      "source": [
        "# Creating 2 matrices with random values\n",
        "matrix_1 = np.random.randint(100, size=(3,4))\n",
        "matrix_2 = np.random.randint(100, size=(3,4))\n",
        "print(\"Matrix_1\\n\\n\",matrix_1)\n",
        "print(\"\\nMatrix_2\\n\\n\",matrix_2)"
      ],
      "metadata": {
        "colab": {
          "base_uri": "https://localhost:8080/"
        },
        "id": "8KEnLBuZJ9Fb",
        "outputId": "4609e1eb-a037-4fd7-d16a-75e724ffb6f8"
      },
      "execution_count": 16,
      "outputs": [
        {
          "output_type": "stream",
          "name": "stdout",
          "text": [
            "Matrix_1\n",
            "\n",
            " [[47 86 48 72]\n",
            " [58 51 96 10]\n",
            " [61 35 18 67]]\n",
            "\n",
            "Matrix_2\n",
            "\n",
            " [[30  0 57 33]\n",
            " [33 47 65 66]\n",
            " [12 44 29 45]]\n"
          ]
        }
      ]
    },
    {
      "cell_type": "code",
      "source": [
        "sum = np.multiply(matrix_1, matrix_2)\n",
        "print(sum)"
      ],
      "metadata": {
        "colab": {
          "base_uri": "https://localhost:8080/"
        },
        "id": "kOoGH16gLatY",
        "outputId": "9ea6f264-f223-48be-8e7f-2bc91fdb8e2b"
      },
      "execution_count": 18,
      "outputs": [
        {
          "output_type": "stream",
          "name": "stdout",
          "text": [
            "[[1410    0 2736 2376]\n",
            " [1914 2397 6240  660]\n",
            " [ 732 1540  522 3015]]\n"
          ]
        }
      ]
    }
  ]
}