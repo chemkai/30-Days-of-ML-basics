{
 "cells": [
  {
   "cell_type": "code",
   "execution_count": 1,
   "id": "2db401ee-3c8d-4208-8e03-5263be10d8ad",
   "metadata": {
    "tags": []
   },
   "outputs": [],
   "source": [
    "import numpy as np"
   ]
  },
  {
   "cell_type": "code",
   "execution_count": 3,
   "id": "86950c40-f809-470d-8b5c-27e3cdea6cfc",
   "metadata": {
    "tags": []
   },
   "outputs": [],
   "source": [
    "# Creating a class for Lasso Regression\n",
    "class Lasso_Regression():\n",
    "    \n",
    "    #initiating the hyperparameters\n",
    "    def __init__(self, learning_rate, no_of_iterations, lambda_parameter):\n",
    "        self.learning_rate = learning_rate\n",
    "        self.no_of_iterations = no_of_iterations\n",
    "        self.lambda_parameter = lambda_parameter\n",
    "        \n",
    "    # Fitting the dataset to the Lasso Regression model\n",
    "    def fit(self, X, Y):\n",
    "        # m --> No. of Datapoints --> No. of Rows\n",
    "        # n --> No. of input features --> No. of Columns\n",
    "        self.m, self.n = X.shape\n",
    "        self.w = np.zeros(self.n)\n",
    "        self.b = 0\n",
    "        self.X = X\n",
    "        self.Y = Y\n",
    "        \n",
    "        # Implementing Gradient Descent algorithm for Optimization\n",
    "        for i in range(no_of_iterations):\n",
    "            self.update_weights()\n",
    "            \n",
    "    # Function for updating the weight and bias value\n",
    "    def update_weights(self):\n",
    "        # linear equation of the model\n",
    "        Y_prediction = self.predict(self.X)\n",
    "        \n",
    "        # gradients for weight\n",
    "        dw = np.zeros(self.n)\n",
    "        \n",
    "        for i in range(self.n):\n",
    "            if self.w[i]>0:\n",
    "                dw[i] = (-(2*(self.X[:,i].dot(self.Y-Y_prediction)))+self.lambda_parameter)/self.m\n",
    "            else:\n",
    "                dw[i] = (-(2*(self.X[:,i].dot(self.Y-Y_prediction)))-self.lambda_parameter)/self.m\n",
    "                \n",
    "            # Gradient for bias\n",
    "            db = -2 * np.sum(self.Y-Y_prediction)/self.m\n",
    "            # updating the weights & bias\n",
    "            self.w = self.w - self.learning_rate*dw\n",
    "            self.b = self.b - self.learning_rate*db\n",
    "            \n",
    "    # Predicting the Target value\n",
    "    def predict(self,X):\n",
    "        return X.dot(self.w)+self.b\n",
    "            "
   ]
  },
  {
   "cell_type": "code",
   "execution_count": null,
   "id": "fd467931-ed34-4806-ab78-75223f7386aa",
   "metadata": {},
   "outputs": [],
   "source": []
  }
 ],
 "metadata": {
  "kernelspec": {
   "display_name": "Python 3 (ipykernel)",
   "language": "python",
   "name": "python3"
  },
  "language_info": {
   "codemirror_mode": {
    "name": "ipython",
    "version": 3
   },
   "file_extension": ".py",
   "mimetype": "text/x-python",
   "name": "python",
   "nbconvert_exporter": "python",
   "pygments_lexer": "ipython3",
   "version": "3.11.4"
  }
 },
 "nbformat": 4,
 "nbformat_minor": 5
}
