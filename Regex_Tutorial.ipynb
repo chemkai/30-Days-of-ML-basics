{
 "cells": [
  {
   "cell_type": "code",
   "execution_count": 2,
   "id": "3173db5b-c02d-4a46-9452-f6ccbd664aea",
   "metadata": {
    "tags": []
   },
   "outputs": [],
   "source": [
    "# Import Regex\n",
    "import re"
   ]
  },
  {
   "cell_type": "code",
   "execution_count": 19,
   "id": "ad15df93-9316-4fa3-9f49-e292e6524c36",
   "metadata": {
    "tags": []
   },
   "outputs": [
    {
     "data": {
      "text/plain": [
       "['elonmusk', 'teslarati', 'dummy_tesla', 'dummy_2_tesla']"
      ]
     },
     "execution_count": 19,
     "metadata": {},
     "output_type": "execute_result"
    }
   ],
   "source": [
    "'''\n",
    "Q1. Extract all twitter handles from following text. Twitter handle is the text that appears after https://twitter.com/ and is a single word. Also it contains \n",
    "onlyalpha numeric characters i.e. A-Z a-z , o to 9 and underscore \n",
    "'''\n",
    "text = '''\n",
    "Follow our leader Elon musk on twitter here: https://twitter.com/elonmusk, more information \n",
    "on Tesla's products can be found at https://www.tesla.com/. Also here are leading influencers \n",
    "for tesla related news,\n",
    "https://twitter.com/teslarati\n",
    "https://twitter.com/dummy_tesla\n",
    "https://twitter.com/dummy_2_tesla\n",
    "'''\n",
    "pattern = 'https://twitter\\.com/([a-z0-9_]+)' # Setting the pattern\n",
    "\n",
    "re.findall(pattern,text) # Finding pattern from the text"
   ]
  },
  {
   "cell_type": "code",
   "execution_count": 22,
   "id": "da9974a6-ec74-49b7-bd2b-9e7132ae3160",
   "metadata": {
    "tags": []
   },
   "outputs": [
    {
     "data": {
      "text/plain": [
       "[' Credit Risk', ' Supply Risk']"
      ]
     },
     "execution_count": 22,
     "metadata": {},
     "output_type": "execute_result"
    }
   ],
   "source": [
    "'''\n",
    "Q2. Extract Concentration Risk Types. It will be a text that appears after \"Concentration Risk:\", In below example, your regex should extract\n",
    "    these two strings'''\n",
    "text = '''\n",
    "Concentration of Risk: Credit Risk\n",
    "Financial instruments that potentially subject us to a concentration of credit risk consist of cash, cash equivalents, marketable securities,\n",
    "restricted cash, accounts receivable, convertible note hedges, and interest rate swaps. Our cash balances are primarily invested in money market funds\n",
    "or on deposit at high credit quality financial institutions in the U.S. These deposits are typically in excess of insured limits. As of September 30, 2021\n",
    "and December 31, 2020, no entity represented 10% or more of our total accounts receivable balance. The risk of concentration for our convertible note\n",
    "hedges and interest rate swaps is mitigated by transacting with several highly-rated multinational banks.\n",
    "Concentration of Risk: Supply Risk\n",
    "We are dependent on our suppliers, including single source suppliers, and the inability of these suppliers to deliver necessary components of our\n",
    "products in a timely manner at prices, quality levels and volumes acceptable to us, or our inability to efficiently manage these components from these\n",
    "suppliers, could have a material adverse effect on our business, prospects, financial condition and operating results.\n",
    "'''\n",
    "pattern = 'Concentration of Risk:([^\\n]*)'\n",
    "re.findall(pattern,text)"
   ]
  },
  {
   "cell_type": "code",
   "execution_count": 21,
   "id": "5634a57f-75dc-454e-bf4e-bbdc10dd7b03",
   "metadata": {
    "tags": []
   },
   "outputs": [
    {
     "data": {
      "text/plain": [
       "['2021 Q1', '2021 S1']"
      ]
     },
     "execution_count": 21,
     "metadata": {},
     "output_type": "execute_result"
    }
   ],
   "source": [
    "'''\n",
    "Q3. Companies in europe reports their financial numbers of semi annual basis and you can have a document like this. To exatract quarterly and semin annual period \n",
    "    you can use a regex as shown below\n",
    "'''\n",
    "text = '''\n",
    "Tesla's gross cost of operating lease vehicles in FY2021 Q1 was $4.85 billion.\n",
    "BMW's gross cost of operating vehicles in FY2021 S1 was $8 billion.\n",
    "'''\n",
    "pattern =  'FY(\\d{4} (?:Q[1-4]|S[1-2]))'\n",
    "re.findall(pattern,text)"
   ]
  },
  {
   "cell_type": "code",
   "execution_count": 30,
   "id": "5b4ab42f-83b1-453c-9773-3a26479e3b81",
   "metadata": {
    "tags": []
   },
   "outputs": [
    {
     "data": {
      "text/plain": [
       "['4.85', '8']"
      ]
     },
     "execution_count": 30,
     "metadata": {},
     "output_type": "execute_result"
    }
   ],
   "source": [
    "'''\n",
    "Q4. Extract only financial numbers'''\n",
    "\n",
    "text = '''\n",
    "Tesla's gross cost of operating lease vehicles in FY2021 Q1 was $4.85 billion.\n",
    "BMW's gross cost of operating vehicles in FY2021 S1 was $8 billion.\n",
    "'''\n",
    "pattern = 'FY(\\d{4} (?:Q[1-4]|S[1-2]))\\$([0-9\\.]+)'\n",
    "re.findall(pattern,text)"
   ]
  },
  {
   "cell_type": "code",
   "execution_count": null,
   "id": "214ca2b1-f1cc-4b25-85d3-17cdaee0e9bf",
   "metadata": {},
   "outputs": [],
   "source": [
    "'''\n",
    "Extract periods and financial numbers both'''\n",
    "text = '''\n",
    "Tesla's gross cost of operating lease vehicles in FY2021 Q1 was $4.85 billion.\n",
    "BMW's gross cost of operating vehicles in FY2021 S1 was $8 billion.\n",
    "'''"
   ]
  },
  {
   "cell_type": "code",
   "execution_count": 27,
   "id": "6125070c-6707-412b-a8dd-0b2375574fc9",
   "metadata": {
    "tags": []
   },
   "outputs": [
    {
     "data": {
      "text/plain": [
       "['9991116666', '(999)-333-777']"
      ]
     },
     "execution_count": 27,
     "metadata": {},
     "output_type": "execute_result"
    }
   ],
   "source": [
    "'''\n",
    "Q4. Find all the phone numbers\n",
    "'''\n",
    "text='''\n",
    "Elon musk's phone number is 9991116666, call him if you have any questions on dodgecoin. Tesla's revenue is 40 billion\n",
    "Tesla's CFO number (999)-333-7777\n",
    "'''\n",
    "pattern = '\\d{10}|\\(\\d{3}\\)-\\d{3}-\\d{3}'\n",
    "re.findall(pattern,text)"
   ]
  },
  {
   "cell_type": "raw",
   "id": "b13ed6bc-91d6-4dbc-a7f0-71d3d6c90927",
   "metadata": {},
   "source": [
    "Regex in customer support"
   ]
  },
  {
   "cell_type": "code",
   "execution_count": 39,
   "id": "d2377d9c-1c44-4967-9751-e774c662c2b0",
   "metadata": {
    "tags": []
   },
   "outputs": [
    {
     "data": {
      "text/plain": [
       "['3467348']"
      ]
     },
     "execution_count": 39,
     "metadata": {},
     "output_type": "execute_result"
    }
   ],
   "source": [
    "# Retrieve order number\n",
    "Chat1 = ' I\\'m having problem with my order number 3467348'\n",
    "pattern = 'order[^\\d]+(\\d*)'\n",
    "re.findall(pattern,Chat1)"
   ]
  },
  {
   "cell_type": "code",
   "execution_count": 50,
   "id": "9cef9fc4-1e6b-4a22-8c35-cd7edc04b166",
   "metadata": {
    "tags": []
   },
   "outputs": [],
   "source": [
    "# Function for getting pattern from the function\n",
    "def get_pattern_match(pattern,text):\n",
    "    matches = re.findall(pattern,text)\n",
    "    if matches:\n",
    "        return matches[0]"
   ]
  },
  {
   "cell_type": "code",
   "execution_count": 43,
   "id": "cd54ad80-5744-43c4-a04e-37f0bf19cd64",
   "metadata": {
    "tags": []
   },
   "outputs": [
    {
     "data": {
      "text/plain": [
       "'3467348'"
      ]
     },
     "execution_count": 43,
     "metadata": {},
     "output_type": "execute_result"
    }
   ],
   "source": [
    "get_pattern_match('order[^\\d]+(\\d*)',Chat1)"
   ]
  },
  {
   "cell_type": "code",
   "execution_count": 44,
   "id": "9efbf26d-4467-4abf-9dbc-046bea9b2d3f",
   "metadata": {
    "tags": []
   },
   "outputs": [],
   "source": [
    "chat1 = 'codebasics: you ask lot of questions 😠  1235678912, abc@xyz.com'\n",
    "chat2 = 'codebasics: here it is: (123)-567-8912, abc@xyz.com'\n",
    "chat3 = 'codebasics: yes, phone: 1235678912 email: abc@xyz.com'"
   ]
  },
  {
   "cell_type": "code",
   "execution_count": 48,
   "id": "7ac13e21-0046-4437-abd1-2f0275b2fddc",
   "metadata": {
    "tags": []
   },
   "outputs": [
    {
     "data": {
      "text/plain": [
       "['abc@xyz.com']"
      ]
     },
     "execution_count": 48,
     "metadata": {},
     "output_type": "execute_result"
    }
   ],
   "source": [
    "pattern='[a-zA-Z0-9]+@[a-zA-Z0-9]+\\.[a-zA-Z]+'\n",
    "re.findall(pattern,chat3)"
   ]
  },
  {
   "cell_type": "code",
   "execution_count": 49,
   "id": "0f4279aa-cb89-44c0-bd15-3ae4e2470c4d",
   "metadata": {
    "tags": []
   },
   "outputs": [
    {
     "data": {
      "text/plain": [
       "'abc@xyz.com'"
      ]
     },
     "execution_count": 49,
     "metadata": {},
     "output_type": "execute_result"
    }
   ],
   "source": [
    "get_pattern_match(pattern,chat3)"
   ]
  },
  {
   "cell_type": "raw",
   "id": "ea1d92e3-9e10-4ff9-a33e-1900a5d55758",
   "metadata": {},
   "source": [
    "Regex for Information Extraction"
   ]
  },
  {
   "cell_type": "code",
   "execution_count": 68,
   "id": "30ae9d94-5088-4f41-bfc8-23bbd8600289",
   "metadata": {
    "tags": []
   },
   "outputs": [],
   "source": [
    "wiki = '''\n",
    "Born  Elon Reeve Musk\n",
    "June 28, 1971 (age 52)\n",
    "Pretoria, Transvaal, South Africa\n",
    "Citizenship\n",
    "South Africa\n",
    "Canada\n",
    "United States\n",
    "Education University of Pennsylvania (BA, BS)\n",
    "Title\n",
    "Founder, CEO, and chief engineer of SpaceX\n",
    "CEO and product architect of Tesla, Inc.\n",
    "Owner and CTO of X, formerly Twitter\n",
    "President of the Musk Foundation\n",
    "Founder of The Boring Company, X Corp., and xAI\n",
    "Co-founder of Neuralink, OpenAI, Zip2, and X.com (part of PayPal)\n",
    "Spouses\n",
    "Justine Wilson\n",
    "​\n",
    "​(m. 2000; div. 2008)​\n",
    "Talulah Riley\n",
    "​\n",
    "​(m. 2010; div. 2012)​\n",
    "​\n",
    "​(m. 2013; div. 2016)​\n",
    "Partners\n",
    "Amber Heard (2015–2017)[1]\n",
    "Grimes (2018–2021)[2]\n",
    "Children  11[a][4]\n",
    "Parents\n",
    "Errol Musk\n",
    "Maye Musk\n",
    "Relatives\n",
    "Kimbal Musk (brother)\n",
    "Tosca Musk (sister)\n",
    "Lyndon Rive (cousin)\n",
    "Family Musk family'''"
   ]
  },
  {
   "cell_type": "code",
   "execution_count": 69,
   "id": "453dd6f3-fc13-4727-ac6a-e9405098154e",
   "metadata": {
    "tags": []
   },
   "outputs": [
    {
     "data": {
      "text/plain": [
       "'52'"
      ]
     },
     "execution_count": 69,
     "metadata": {},
     "output_type": "execute_result"
    }
   ],
   "source": [
    "get_pattern_match(r'age (\\d*)',wiki)"
   ]
  },
  {
   "cell_type": "code",
   "execution_count": 96,
   "id": "e296a5d7-044f-44a5-86c9-7ea5efe6c2d0",
   "metadata": {
    "tags": []
   },
   "outputs": [
    {
     "data": {
      "text/plain": [
       "'Pretoria, Transvaal, South Africa'"
      ]
     },
     "execution_count": 96,
     "metadata": {},
     "output_type": "execute_result"
    }
   ],
   "source": [
    "get_pattern_match(r'age.*\\n(.*)', wiki)"
   ]
  },
  {
   "cell_type": "code",
   "execution_count": 104,
   "id": "849c3174-4116-4eb5-9ecb-a654e64e2134",
   "metadata": {
    "tags": []
   },
   "outputs": [
    {
     "data": {
      "text/plain": [
       "'June 28, 1971 '"
      ]
     },
     "execution_count": 104,
     "metadata": {},
     "output_type": "execute_result"
    }
   ],
   "source": [
    "get_pattern_match(r'Born.*\\n(.*)\\(age', wiki)"
   ]
  },
  {
   "cell_type": "code",
   "execution_count": 103,
   "id": "adcdf674-a74e-45a5-be21-f7d1b17130ce",
   "metadata": {
    "tags": []
   },
   "outputs": [
    {
     "data": {
      "text/plain": [
       "' Elon Reeve Musk'"
      ]
     },
     "execution_count": 103,
     "metadata": {},
     "output_type": "execute_result"
    }
   ],
   "source": [
    "get_pattern_match(r'Born (.*)\\n',wiki)"
   ]
  },
  {
   "cell_type": "code",
   "execution_count": 114,
   "id": "d8d26fad-99d7-44f6-925b-be2f2fe55389",
   "metadata": {
    "tags": []
   },
   "outputs": [],
   "source": [
    "def extract_personal_information(text):\n",
    "    age = get_pattern_match(r'age (\\d*)',wiki)\n",
    "    full_name = get_pattern_match(r'Born (.*)\\n',wiki)\n",
    "    place_of_birth= get_pattern_match(r'Born.*\\n(.*)\\(age', wiki)\n",
    "    Date_of_birth = get_pattern_match(r'Born.*\\n(.*)\\(age', wiki)\n",
    "    return {\n",
    "        'age': int(age),\n",
    "        'name': full_name.strip(),\n",
    "        'birth_date': Date_of_birth.strip(),\n",
    "        'birth_place': place_of_birth.strip()\n",
    "    }"
   ]
  },
  {
   "cell_type": "code",
   "execution_count": 115,
   "id": "7a2acc54-6c5b-40dd-8578-9ac64a967d52",
   "metadata": {
    "tags": []
   },
   "outputs": [
    {
     "data": {
      "text/plain": [
       "{'age': 52,\n",
       " 'name': 'Elon Reeve Musk',\n",
       " 'birth_date': 'June 28, 1971',\n",
       " 'birth_place': 'June 28, 1971'}"
      ]
     },
     "execution_count": 115,
     "metadata": {},
     "output_type": "execute_result"
    }
   ],
   "source": [
    "extract_personal_information(wiki)"
   ]
  },
  {
   "cell_type": "code",
   "execution_count": null,
   "id": "a0fa3e86-c628-4bf7-a506-8d8ca215d668",
   "metadata": {},
   "outputs": [],
   "source": []
  }
 ],
 "metadata": {
  "kernelspec": {
   "display_name": "Python 3 (ipykernel)",
   "language": "python",
   "name": "python3"
  },
  "language_info": {
   "codemirror_mode": {
    "name": "ipython",
    "version": 3
   },
   "file_extension": ".py",
   "mimetype": "text/x-python",
   "name": "python",
   "nbconvert_exporter": "python",
   "pygments_lexer": "ipython3",
   "version": "3.11.4"
  }
 },
 "nbformat": 4,
 "nbformat_minor": 5
}
