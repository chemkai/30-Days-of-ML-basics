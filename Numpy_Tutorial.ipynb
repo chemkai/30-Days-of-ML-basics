{
 "cells": [
  {
   "cell_type": "code",
   "execution_count": 1,
   "id": "2b9b5475-8474-4763-aaa5-46fa6ea46d96",
   "metadata": {
    "tags": []
   },
   "outputs": [],
   "source": [
    "import numpy as np"
   ]
  },
  {
   "cell_type": "code",
   "execution_count": 11,
   "id": "dcd16895-562e-4a7d-9615-55380b8e4985",
   "metadata": {
    "tags": []
   },
   "outputs": [
    {
     "name": "stdout",
     "output_type": "stream",
     "text": [
      "Printing 1D array: \n",
      " [1 2 3 4]\n",
      "\n",
      "Printing 2D array:\n",
      " [[1 2 3 4]\n",
      " [5 6 7 8]]\n",
      "\n",
      "Printing 3D array:\n",
      " [[[ 1  2  3  4]\n",
      "  [ 5  6  7  8]]\n",
      "\n",
      " [[ 1  2  3  4]\n",
      "  [ 9 10 11 12]]]\n"
     ]
    }
   ],
   "source": [
    "# Define 1D array\n",
    "my_array = np.array([1, 2, 3, 4],dtype=np.int64)\n",
    "\n",
    "# Define 2D array\n",
    "my_2D_array = np.array([[1, 2, 3, 4],[5, 6, 7, 8]],dtype=np.int64)\n",
    "\n",
    "# Define 3D array\n",
    "# Define a 3D array\n",
    "my_3D_array = np.array([[[1, 2, 3, 4],[5, 6, 7, 8]],[[1, 2, 3, 4],[9, 10, 11, 12]]],dtype=np.int64)\n",
    "\n",
    "# Print 1D array\n",
    "print('Printing 1D array: \\n',my_array)\n",
    "\n",
    "# Print 2D array\n",
    "print('\\nPrinting 2D array:\\n',my_2D_array)\n",
    "\n",
    "# Print 3D array\n",
    "print('\\nPrinting 3D array:\\n',my_3D_array)"
   ]
  },
  {
   "cell_type": "code",
   "execution_count": 20,
   "id": "df5f99f6-ab50-4b04-bd83-7d9b39f0a524",
   "metadata": {
    "tags": []
   },
   "outputs": [
    {
     "name": "stdout",
     "output_type": "stream",
     "text": [
      "<memory at 0x0000025DF981B9F0>\n",
      "(2, 5)\n",
      "int64\n",
      "(40, 8)\n"
     ]
    }
   ],
   "source": [
    "'''\n",
    " On a structural level, an array is basically nothing but pointers. It’s a combination of a memory address, a data type, a shape, and strides:\n",
    "\n",
    "• The data pointer indicates the memory address of the first byte in the array.\n",
    "• The data type or dtype pointer describes the kind of elements that are contained within the array.\n",
    "• The shape indicates the shape of the array.\n",
    "• The strides are the number of bytes that should be skipped in memory to go to the next element. If your strides are (10,1), you need to proceed \n",
    "  one byte to get to the next column and 10 bytes to locate the next row.\n",
    "In other words, an array contains information about the raw data, how to locate an element, and how to interpret an element.\n",
    "'''\n",
    "\n",
    "my_2d_array = np.array([[1,2,3,4,5], [5,6,7,8,9]], dtype=np.int64)\n",
    "\n",
    "# Print out memory address\n",
    "print(my_2d_array.data)\n",
    "\n",
    "# Print out the shape of `my_array`\n",
    "print(my_2d_array.shape)\n",
    "\n",
    "# Print out the data type of `my_array`\n",
    "print(my_2d_array.dtype)\n",
    "\n",
    "# Print out the stride of `my_array`\n",
    "print(my_2d_array.strides)\n",
    "# The strides of the array tell us that you have to skip 8 bytes (one value) to move to the next column i.e. Strides=5(values)*8(byte_size)=40"
   ]
  },
  {
   "cell_type": "code",
   "execution_count": 35,
   "id": "febcd663-287e-425d-9ac6-2c60f8150f01",
   "metadata": {
    "tags": []
   },
   "outputs": [
    {
     "name": "stdout",
     "output_type": "stream",
     "text": [
      "Printing Ones array: \n",
      " [[1. 1. 1.]\n",
      " [1. 1. 1.]]\n",
      "\n",
      "Printing Zeroes array:\n",
      " [[[0. 0. 0. 0.]\n",
      "  [0. 0. 0. 0.]\n",
      "  [0. 0. 0. 0.]]\n",
      "\n",
      " [[0. 0. 0. 0.]\n",
      "  [0. 0. 0. 0.]\n",
      "  [0. 0. 0. 0.]]]\n",
      "\n",
      "Printing Random array:\n",
      " [[0.94804188 0.12374606 0.60896707]\n",
      " [0.22933127 0.61358537 0.42995224]]\n",
      "\n",
      "Printing an empty array:\n",
      " [[0.94804188 0.12374606]\n",
      " [0.60896707 0.22933127]\n",
      " [0.61358537 0.42995224]]\n",
      "\n",
      "Printing a full array:\n",
      " [[8 8 8]\n",
      " [8 8 8]]\n",
      "\n",
      "Printing an evenly spaced array of 5:\n",
      " [10 15 20 25]\n"
     ]
    },
    {
     "data": {
      "text/plain": [
       "array([0. , 0.5, 1. , 1.5, 2. ])"
      ]
     },
     "execution_count": 35,
     "metadata": {},
     "output_type": "execute_result"
    }
   ],
   "source": [
    "# Initiating an empyt numpy arrays\n",
    "\n",
    "# Create an array of ones\n",
    "# numpy.ones(shape, dtype=None, order='C', *, like=None)[source]\n",
    "ones_array = np.ones((2,3))\n",
    "print('Printing Ones array: \\n',ones_array)\n",
    "\n",
    "# Create an array of zeros\n",
    "# numpy.zeros(shape, dtype=float, order='C', *, like=None)\n",
    "zeroes_array = np.zeros((2,3,4))\n",
    "print('\\nPrinting Zeroes array:\\n',zeroes_array)\n",
    "\n",
    "# Create an array with random values\n",
    "random_array = np.random.random((2,3))\n",
    "print('\\nPrinting Random array:\\n',random_array)\n",
    "\n",
    "# Create an empty array\n",
    "# numpy.empty(shape, dtype=float, order='C', *, like=None)\n",
    "empty_array = np.empty((3,2))\n",
    "print('\\nPrinting an empty array:\\n',empty_array)\n",
    "\n",
    "# Create a full array\n",
    "full_array = np.full((2,3),8) # Filled with value=8\n",
    "print('\\nPrinting a full array:\\n',full_array)\n",
    "\n",
    "# Create an array of evenly spaced values\n",
    "arange_array = np.arange(10,30,5)\n",
    "print('\\nPrinting an evenly spaced array of 5:\\n',arange_array)\n",
    "\n",
    "# Create an array of evenly spaced values\n",
    "# numpy.linspace(start, stop, num=50, endpoint=True, retstep=False, dtype=None, axis=0)\n",
    "np.linspace(0,2,5) #"
   ]
  },
  {
   "cell_type": "code",
   "execution_count": 45,
   "id": "1c767129-7f28-4cd8-9aa6-65d2b88ab8ae",
   "metadata": {
    "tags": []
   },
   "outputs": [
    {
     "name": "stdout",
     "output_type": "stream",
     "text": [
      "[0.2536 0.4839 0.1292 0.1781 0.6253] [0.1008 0.4536 0.6875 0.3049 0.3486] [0.3857 0.3561 0.5929 0.8928 0.8791]\n",
      "<class 'numpy.ndarray'>\n"
     ]
    }
   ],
   "source": [
    "'''\n",
    "numpy.loadtxt(fname, dtype=<class 'float'>, comments='#', delimiter=None, converters=None, skiprows=0, usecols=None, unpack=False, ndmin=0, encoding='bytes', \n",
    "                max_rows=None, *, quotechar=None, like=None)\n",
    "'''\n",
    "# Load data from a text file, with missing values handled as specified.\n",
    "x, y, z = np.loadtxt('Text.txt',skiprows=1,unpack=True)\n",
    "print(x,y,z)\n",
    "print(type(x))"
   ]
  },
  {
   "cell_type": "code",
   "execution_count": 47,
   "id": "07567de8-19bc-4765-a5de-18bf9f8f78dc",
   "metadata": {
    "tags": []
   },
   "outputs": [
    {
     "data": {
      "text/plain": [
       "array([[0.2536, 0.1008, 0.3857],\n",
       "       [0.4839, 0.4536, 0.3561],\n",
       "       [0.1292, 0.6875, 0.5929],\n",
       "       [0.1781, 0.3049, 0.8928],\n",
       "       [0.6253, 0.3486, 0.8791]])"
      ]
     },
     "execution_count": 47,
     "metadata": {},
     "output_type": "execute_result"
    }
   ],
   "source": [
    "'''\n",
    "numpy.genfromtxt(fname, dtype=<class 'float'>, comments='#', delimiter=None, skip_header=0, skip_footer=0, converters=None, missing_values=None, \n",
    "                 filling_values=None, usecols=None, names=None,excludelist=None, deletechars=\" !#$%&'()*+, -./:;<=>?@[\\\\]^{|}~\", \n",
    "                 replace_space='_', autostrip=False, case_sensitive=True, defaultfmt='f%i', unpack=None, usemask=False, loose=True, invalid_raise=True,\n",
    "                 max_rows=None, encoding='bytes', *, ndmin=0, like=None)\n",
    "'''\n",
    "my_array2 = np.genfromtxt('Text.txt',skip_header=1,filling_values=-999)\n",
    "my_array2"
   ]
  },
  {
   "cell_type": "code",
   "execution_count": 51,
   "id": "8565bc79-aefe-480c-91ba-7f2db71a8929",
   "metadata": {
    "tags": []
   },
   "outputs": [
    {
     "data": {
      "text/plain": [
       "array([ 0,  5, 10, 15, 20])"
      ]
     },
     "execution_count": 51,
     "metadata": {},
     "output_type": "execute_result"
    }
   ],
   "source": [
    "# Saving Numpy arrays\n",
    "X = np.arange(0,25,5)\n",
    "np.savetxt('Test_txt.out',X,delimiter=',')\n",
    "X"
   ]
  },
  {
   "cell_type": "code",
   "execution_count": 56,
   "id": "68cc3351-34c0-43f2-a6d0-3729b45add9d",
   "metadata": {
    "tags": []
   },
   "outputs": [
    {
     "name": "stdout",
     "output_type": "stream",
     "text": [
      "Number of dimensions of my_array:\n",
      "2\n",
      "\n",
      "Number of elements in my_array:\n",
      "8\n",
      "\n",
      "Information about the memory layout of my_array:\n",
      "  C_CONTIGUOUS : True\n",
      "  F_CONTIGUOUS : False\n",
      "  OWNDATA : True\n",
      "  WRITEABLE : True\n",
      "  ALIGNED : True\n",
      "  WRITEBACKIFCOPY : False\n",
      "\n",
      "\n",
      "Length of one array element in bytes:\n",
      "8\n",
      "\n",
      "Total consumed bytes by my_array's elements:\n",
      "64\n",
      "\n"
     ]
    }
   ],
   "source": [
    "'''  Inspect your NumPy Arrays  '''\n",
    "# Create a numpy array with shape (2,4) and dtype int64\n",
    "my_array = np.array([[1,2,3,4], [5,6,7,8]], dtype=np.int64)\n",
    "\n",
    "# Print the number of dimensions of `my_array`\n",
    "print(\"Number of dimensions of my_array:\")\n",
    "print(my_array.ndim)\n",
    "print()\n",
    "\n",
    "# Print the number of elements in `my_array`\n",
    "print(\"Number of elements in my_array:\")\n",
    "print(my_array.size)\n",
    "print()\n",
    "\n",
    "# Print information about the memory layout of `my_array`\n",
    "print(\"Information about the memory layout of my_array:\")\n",
    "print(my_array.flags)\n",
    "print()\n",
    "\n",
    "# Print the length of one array element in bytes\n",
    "print(\"Length of one array element in bytes:\")\n",
    "print(my_array.itemsize)\n",
    "print()\n",
    "\n",
    "# Print the total consumed bytes by `my_array`'s elements\n",
    "print(\"Total consumed bytes by my_array's elements:\")\n",
    "print(my_array.nbytes)\n",
    "print()"
   ]
  },
  {
   "cell_type": "raw",
   "id": "01b30ab4-8f2a-4b06-9e3d-842616d1a4d2",
   "metadata": {
    "tags": []
   },
   "source": [
    "NumPy Broadcasting"
   ]
  },
  {
   "cell_type": "code",
   "execution_count": 65,
   "id": "1da32b1d-38f8-48ce-aa31-f8c989162fc2",
   "metadata": {
    "tags": []
   },
   "outputs": [
    {
     "name": "stdout",
     "output_type": "stream",
     "text": [
      "Shape of arrray 'X': (3, 4)\n",
      "\n",
      "Shape of the array 'Y': (3, 4)\n",
      "\n",
      "Result of the addition of the arrays 'X' & 'Y':\n",
      " [[1.36929829 1.16743515 1.08065614 1.18698112]\n",
      " [1.55025755 1.7556084  1.98694378 1.012839  ]\n",
      " [1.66991213 1.29530937 1.78034818 1.96544086]]\n",
      "\n",
      "Shape of the array 'Z': (3, 4)\n"
     ]
    }
   ],
   "source": [
    "# Initialize an array of ones and assign it to the variable 'X'\n",
    "X = np.ones((3,4))\n",
    "print('Shape of arrray \\'X\\':',X.shape)\n",
    "\n",
    "# Initialize an array of random numbers between 0 & 1 assign it to 'Y'\n",
    "Y = np.random.random((3,4))\n",
    "print('\\nShape of the array \\'Y\\':',Y.shape)\n",
    "\n",
    "# Add the array 'X' & 'Y' and assign it to 'Z'\n",
    "Z = X + Y\n",
    "print('\\nResult of the addition of the arrays \\'X\\' & \\'Y\\':\\n',Z)\n",
    "print('\\nShape of the array \\'Z\\':',Z.shape)"
   ]
  },
  {
   "cell_type": "code",
   "execution_count": 68,
   "id": "6a0a8987-ae35-4031-8144-115c3d3a3584",
   "metadata": {
    "tags": []
   },
   "outputs": [
    {
     "name": "stdout",
     "output_type": "stream",
     "text": [
      "(3, 4)\n",
      "(5, 1, 4)\n",
      "(5, 3, 4)\n"
     ]
    }
   ],
   "source": [
    "# Initialize `x` and `y`\n",
    "x = np.ones((3,4))\n",
    "y = np.random.random((5,1,4))\n",
    "\n",
    "# Add `x` and `y`\n",
    "z = x + y\n",
    "print(x.shape);print(y.shape);print(z.shape)"
   ]
  },
  {
   "cell_type": "code",
   "execution_count": 69,
   "id": "c649f773-0c8e-4938-9c87-94d1698d920c",
   "metadata": {
    "tags": []
   },
   "outputs": [
    {
     "name": "stdout",
     "output_type": "stream",
     "text": [
      "Addition of x and y:\n",
      " [[ 7  9 11]\n",
      " [ 9 11 13]]\n",
      "Subtraction of y from x:\n",
      " [[-5 -5 -5]\n",
      " [-3 -3 -3]]\n",
      "Element-wise multiplication of x and y:\n",
      " [[ 6 14 24]\n",
      " [18 28 40]]\n"
     ]
    }
   ],
   "source": [
    "x = np.array([[1, 2, 3], [3, 4, 5]])\n",
    "y = np.array([6,7,8])\n",
    "\n",
    "# Add `x` and `y`\n",
    "z = np.add(x,y)\n",
    "print(\"Addition of x and y:\\n\", z)\n",
    "\n",
    "# Subtract `x` and `y`\n",
    "z = np.subtract(x,y)\n",
    "print(\"Subtraction of y from x:\\n\", z)\n",
    "\n",
    "# Multiply `x` and `y`\n",
    "z = np.multiply(x,y)\n",
    "print(\"Element-wise multiplication of x and y:\\n\", z)"
   ]
  },
  {
   "cell_type": "raw",
   "id": "9359d74a-23bf-4fa1-872d-7c7336d00e6b",
   "metadata": {},
   "source": [
    "Subset, Slice, and Index Arrays:\n",
    "• You use square brackets [] as the index operator, and\n",
    "• Generally, you pass integers to these square brackets, but you can also put a colon : or a combination of the colon with integers in it \n",
    "  to designate the elements/rows/columns you want to select."
   ]
  },
  {
   "cell_type": "code",
   "execution_count": 73,
   "id": "b9150309-52c5-49ac-972c-1eb4d3a7c2d3",
   "metadata": {
    "tags": []
   },
   "outputs": [
    {
     "name": "stdout",
     "output_type": "stream",
     "text": [
      "2\n",
      "7\n",
      "7\n"
     ]
    }
   ],
   "source": [
    "''' Subsetting '''\n",
    "# Initialize 1D array\n",
    "my_array = np.array([1,2,3,4])\n",
    "\n",
    "# Print subsets\n",
    "print(my_array[1])\n",
    "\n",
    "# Initialize 2D array\n",
    "my_2d_array = np.array([[1,2,3,4], [5,6,7,8]], dtype=np.int64)\n",
    "\n",
    "# Print subsets\n",
    "print(my_2d_array[1][2])\n",
    "print(my_2d_array[1,2])"
   ]
  },
  {
   "cell_type": "code",
   "execution_count": 72,
   "id": "e770a1c4-af66-4cf5-9f64-67b1d44d50a7",
   "metadata": {
    "tags": []
   },
   "outputs": [
    {
     "name": "stdout",
     "output_type": "stream",
     "text": [
      "11\n"
     ]
    }
   ],
   "source": [
    "# Initialize 3D array\n",
    "my_3d_array = np.array([[[1,2,3,4], [5,6,7,8]], [[1,2,3,4], [9,10,11,12]]], dtype=np.int64)\n",
    "\n",
    "# Print subset\n",
    "print(my_3d_array[1,1,2])"
   ]
  },
  {
   "cell_type": "code",
   "execution_count": 78,
   "id": "22aae1b4-3cfa-473d-a202-656f443d823e",
   "metadata": {
    "tags": []
   },
   "outputs": [
    {
     "name": "stdout",
     "output_type": "stream",
     "text": [
      "[1 2]\n"
     ]
    }
   ],
   "source": [
    "''' Slicing '''\n",
    "# Initialize 1D array\n",
    "my_array = np.array([1,2,3,4])\n",
    "\n",
    "# Print subsets\n",
    "print(my_array[0:2])"
   ]
  },
  {
   "cell_type": "code",
   "execution_count": 89,
   "id": "e8d810ac-af98-46ca-b5a7-6fac32a4a13e",
   "metadata": {
    "tags": []
   },
   "outputs": [
    {
     "name": "stdout",
     "output_type": "stream",
     "text": [
      "[2 6 3]\n"
     ]
    },
    {
     "data": {
      "text/plain": [
       "'\\n• The first argument 0:3 specifies the range of rows to include (i.e., rows 0, 1 & 2), and the second argument 1 specifies the column to include.'"
      ]
     },
     "execution_count": 89,
     "metadata": {},
     "output_type": "execute_result"
    }
   ],
   "source": [
    "# Initialize 2D array\n",
    "my_2d_array = np.array([[1,2,3,4], [5,6,7,8], [2,3,5,8],[5,6,8,7]], dtype=np.int64)\n",
    "\n",
    "# Print subsets\n",
    "print(my_2d_array[0:3,1])\n",
    "'''\n",
    "• The first argument 0:3 specifies the range of rows to include (i.e., rows 0, 1 & 2), and the second argument 1 specifies the column to include.'''"
   ]
  },
  {
   "cell_type": "code",
   "execution_count": 96,
   "id": "46664e97-c998-42a0-9bc1-569fa1b33b2a",
   "metadata": {
    "tags": []
   },
   "outputs": [
    {
     "name": "stdout",
     "output_type": "stream",
     "text": [
      "[[ 1  2  3  4]\n",
      " [ 9 10 11 12]]\n"
     ]
    },
    {
     "data": {
      "text/plain": [
       "'\\n• The subset is the second 2D array in the 3D array, which is accessed using the index 1, \\n  followed by the ellipsis (...) to indicate that all remaining dimensions should be included. '"
      ]
     },
     "execution_count": 96,
     "metadata": {},
     "output_type": "execute_result"
    }
   ],
   "source": [
    "# Initialize 3D array\n",
    "my_3d_array = np.array([[[5,2,3,4], [5,6,7,8]], [[1,2,3,4],[9,10,11,12]]], dtype=np.int64)\n",
    "\n",
    "# Print subset\n",
    "print(my_3d_array[1,...])\n",
    "'''\n",
    "• The subset is the second 2D array in the 3D array, which is accessed using the index 1, \n",
    "  followed by the ellipsis (...) to indicate that all remaining dimensions should be included. '''"
   ]
  },
  {
   "cell_type": "code",
   "execution_count": 98,
   "id": "f0167360-6153-4535-8924-c099192c4d25",
   "metadata": {
    "tags": []
   },
   "outputs": [
    {
     "data": {
      "text/plain": [
       "'\\na[start:end] # items start through the end (but the end is not included!)\\na[start:]    # items start through the rest of the array\\na[:end]      # items from the beginning through the end (but the end is not included!) '"
      ]
     },
     "execution_count": 98,
     "metadata": {},
     "output_type": "execute_result"
    }
   ],
   "source": [
    "'''\n",
    "a[start:end] # items start through the end (but the end is not included!)\n",
    "a[start:]    # items start through the rest of the array\n",
    "a[:end]      # items from the beginning through the end (but the end is not included!) '''"
   ]
  },
  {
   "cell_type": "code",
   "execution_count": 99,
   "id": "f6e8be90-1523-4f68-95bb-e1db97025749",
   "metadata": {
    "tags": []
   },
   "outputs": [
    {
     "name": "stdout",
     "output_type": "stream",
     "text": [
      "[1]\n",
      "[ 3  4  5  6  7  8  3  4  9 10 11 12]\n"
     ]
    }
   ],
   "source": [
    "''' Indexing '''\n",
    "\n",
    "my_array = np.array([1,2,3,4])\n",
    "my_3d_array = np.array([[[1,2,3,4], [5,6,7,8]], [[1,2,3,4], [9,10,11,12]]], dtype=np.int64)\n",
    "\n",
    "# Try out a simple example\n",
    "print(my_array[my_array<2])\n",
    "\n",
    "# Specify a condition\n",
    "bigger_than_3 = (my_3d_array >= 3)\n",
    "\n",
    "# Use the condition to index our 3d array\n",
    "print(my_3d_array[bigger_than_3])"
   ]
  },
  {
   "cell_type": "code",
   "execution_count": 110,
   "id": "0c19f219-f9ee-42e6-b999-f49c56aa1629",
   "metadata": {
    "tags": []
   },
   "outputs": [
    {
     "name": "stdout",
     "output_type": "stream",
     "text": [
      "[5 2 7 1] \n",
      "\n",
      "[[5 6 7 5]\n",
      " [1 2 3 1]\n",
      " [5 6 7 5]\n",
      " [1 2 3 1]]\n"
     ]
    }
   ],
   "source": [
    "my_array = np.array([1,2,3,4])\n",
    "my_2d_array = np.array([[1,2,3,4], [5,6,7,8]], dtype=np.int64)\n",
    "my_3d_array = np.array([[[1,2,3,4], [5,6,7,8]], [[1,2,3,4], [9,10,11,12]]], dtype=np.int64)\n",
    "\n",
    "# Select elements at (1,0), (0,1), (1,2) and (0,0)\n",
    "print(my_2d_array[[1, 0, 1, 0],[0, 1, 2, 0]],'\\n')\n",
    "'''\n",
    "• The first argument ([1, 0, 1, 0]) specifies the rows to select, and the second argument ([0, 1, 2, 0]) specifies the columns to select. '''\n",
    "\n",
    "# Select a subset of the rows and columns\n",
    "'''\n",
    "• The first argument ([1, 0, 1, 0]) specifies the rows to select, and the second argument ([:,[0,1,2,0]]) specifies the columns to select. \n",
    "  What the second part, namely, [:,[0,1,2,0]], is tell you that you want to keep all the rows of this result, but that you want to change the order of the \n",
    "  columns around a bit. You want to display the columns 0, 1, and 2 as they are right now, but you want to repeat column 0 as the last column instead of \n",
    "  displaying column number 3. This will give you the following result:'''\n",
    "print(my_2d_array[[1, 0, 1, 0]][:,[0,1,2,0]])"
   ]
  },
  {
   "cell_type": "code",
   "execution_count": 121,
   "id": "275c4feb-3cd6-4c0a-a422-a5605fdf334f",
   "metadata": {
    "tags": []
   },
   "outputs": [
    {
     "data": {
      "text/plain": [
       "'\\n• Use lookfor() to do a keyword search on docstrings. This is specifically handy if you’re just starting out, as the ‘theory’ behind it all might fade in your memory.\\nThe one downside is that you have to go through all of the search results if your query is not that specific, as is the case in the code example below. This might make \\nit even less overviewable for you.\\n• Use info() for quick explanations and code examples of functions, classes, or modules. If you’re a person that learns by doing, this is the way to go!\\nThe only downside about using this function is probably that you need to be aware of the module in which certain attributes or functions are in. If you don’t know\\nimmediately what is meant by that, check out the code example below. '"
      ]
     },
     "execution_count": 121,
     "metadata": {},
     "output_type": "execute_result"
    }
   ],
   "source": [
    "'''\n",
    "• Use lookfor() to do a keyword search on docstrings. This is specifically handy if you’re just starting out, as the ‘theory’ behind it all might fade in your memory.\n",
    "The one downside is that you have to go through all of the search results if your query is not that specific, as is the case in the code example below. This might make \n",
    "it even less overviewable for you.\n",
    "• Use info() for quick explanations and code examples of functions, classes, or modules. If you’re a person that learns by doing, this is the way to go!\n",
    "The only downside about using this function is probably that you need to be aware of the module in which certain attributes or functions are in. If you don’t know\n",
    "immediately what is meant by that, check out the code example below. '''"
   ]
  },
  {
   "cell_type": "code",
   "execution_count": 112,
   "id": "d57654ef-488a-43dc-9a32-723aff2f0bd9",
   "metadata": {
    "tags": []
   },
   "outputs": [
    {
     "name": "stdout",
     "output_type": "stream",
     "text": [
      "Search results for 'mean'\n",
      "-------------------------\n",
      "numpy.mean\n",
      "    Compute the arithmetic mean along the specified axis.\n",
      "numpy.nanmean\n",
      "    Compute the arithmetic mean along the specified axis, ignoring NaNs.\n",
      "numpy.ma.mean\n",
      "    Returns the average of the array elements along given axis.\n",
      "numpy.bool_.mean\n",
      "    Scalar method identical to the corresponding array attribute.\n",
      "numpy.array_equiv\n",
      "    Returns True if input arrays are shape consistent and all elements equal.\n",
      "numpy.matrix.mean\n",
      "    Returns the average of the matrix elements along the given axis.\n",
      "numpy.chararray.mean\n",
      "    Returns the average of the array elements along given axis.\n",
      "numpy.ma.anom\n",
      "    Compute the anomalies (deviations from the arithmetic mean)\n",
      "numpy.ma.fix_invalid\n",
      "    Return input with invalid data masked and replaced by a fill value.\n",
      "numpy.ma.MaskedArray.anom\n",
      "    Compute the anomalies (deviations from the arithmetic mean)\n",
      "numpy.random.Generator.wald\n",
      "    Draw samples from a Wald, or inverse Gaussian, distribution.\n",
      "numpy.random.RandomState.wald\n",
      "    Draw samples from a Wald, or inverse Gaussian, distribution.\n",
      "numpy.random.Generator.lognormal\n",
      "    Draw samples from a log-normal distribution.\n",
      "numpy.random.RandomState.lognormal\n",
      "    Draw samples from a log-normal distribution.\n",
      "numpy.polynomial.polyutils.trimcoef\n",
      "    Remove \"small\" \"trailing\" coefficients from a polynomial.\n",
      "numpy.exp\n",
      "    Calculate the exponential of all elements in the input array.\n",
      "numpy.pad\n",
      "    Pad an array.\n",
      "numpy.ptp\n",
      "    Range of values (maximum - minimum) along an axis.\n",
      "numpy.put\n",
      "    Replaces specified elements of an array with given values.\n",
      "numpy.std\n",
      "    Compute the standard deviation along the specified axis.\n",
      "numpy.sum\n",
      "    Sum of array elements over a given axis.\n",
      "numpy.var\n",
      "    Compute the variance along the specified axis.\n",
      "numpy.copy\n",
      "    Return an array copy of the given object.\n",
      "numpy.full\n",
      "    Return a new array of given shape and type, filled with `fill_value`.\n",
      "numpy.prod\n",
      "    Return the product of array elements over a given axis.\n",
      "numpy.take\n",
      "    Take elements from an array along an axis.\n",
      "numpy.void\n",
      "    Create a new structured or unstructured void scalar.\n",
      "numpy.block\n",
      "    Assemble an nd-array from nested lists of blocks.\n",
      "numpy.isnan\n",
      "    Test element-wise for NaN and return result as a boolean array.\n",
      "numpy.ravel\n",
      "    Return a contiguous flattened array.\n",
      "numpy.copyto\n",
      "    Copies values from one array to another, broadcasting as necessary.\n",
      "numpy.random.Generator.standard_normal\n",
      "    Draw samples from a standard Normal distribution (mean=0, stdev=1).\n",
      "numpy.einsum\n",
      "    einsum(subscripts, *operands, out=None, dtype=None, order='K',\n",
      "numpy.interp\n",
      "    One-dimensional linear interpolation for monotonically increasing sample points.\n",
      "numpy.kaiser\n",
      "    Return the Kaiser window.\n",
      "numpy.median\n",
      "    Compute the median along the specified axis.\n",
      "numpy.nanmax\n",
      "    Return the maximum of an array or maximum along an axis, ignoring any\n",
      "numpy.nanmin\n",
      "    Return minimum of an array or minimum along an axis, ignoring any NaNs.\n",
      "numpy.nanstd\n",
      "    Compute the standard deviation along the specified axis, while\n",
      "numpy.nansum\n",
      "    Return the sum of array elements over a given axis treating Not a\n",
      "numpy.nanvar\n",
      "    Compute the variance along the specified axis, while ignoring NaNs.\n",
      "numpy.nditer\n",
      "    Efficient multi-dimensional iterator object to iterate over arrays.\n",
      "numpy.asarray\n",
      "    Convert the input to an array.\n",
      "numpy.average\n",
      "    Compute the weighted average along the specified axis.\n",
      "numpy.distutils.command.build.build\n",
      "    Setuptools internal actions are organized using a *command design pattern*.\n",
      "numpy.hamming\n",
      "    Return the Hamming window.\n",
      "numpy.hanning\n",
      "    Return the Hanning window.\n",
      "numpy.loadtxt\n",
      "    Load data from a text file.\n",
      "numpy.polyfit\n",
      "    Least squares polynomial fit.\n",
      "numpy.reshape\n",
      "    Gives a new shape to an array without changing its data.\n",
      "numpy.allclose\n",
      "    Returns True if two arrays are element-wise equal within a tolerance.\n",
      "numpy.bartlett\n",
      "    Return the Bartlett window.\n",
      "numpy.blackman\n",
      "    Return the Blackman window.\n",
      "numpy.can_cast\n",
      "    Returns True if cast between data types can occur according to the\n",
      "numpy.digitize\n",
      "    Return the indices of the bins to which each value in input array belongs.\n",
      "numpy.fromfile\n",
      "    Construct an array from data in a text or binary file.\n",
      "numpy.fromiter\n",
      "    Create a new 1-dimensional array from an iterable object.\n",
      "numpy.gradient\n",
      "    Return the gradient of an N-dimensional array.\n",
      "numpy.random.RandomState.standard_normal\n",
      "    Draw samples from a standard Normal distribution (mean=0, stdev=1).\n",
      "numpy.isfinite\n",
      "    Test element-wise for finiteness (not infinity and not Not a Number).\n",
      "numpy.quantile\n",
      "    Compute the q-th quantile of the data along the specified axis.\n",
      "numpy.distutils.command.config.config\n",
      "    Setuptools internal actions are organized using a *command design pattern*.\n",
      "numpy.full_like\n",
      "    Return a full array with the same shape and type as a given array.\n",
      "numpy.isrealobj\n",
      "    Return True if x is a not complex type or an array of complex numbers.\n",
      "numpy.nanmedian\n",
      "    Compute the median along the specified axis, while ignoring NaNs.\n",
      "numpy.ones_like\n",
      "    Return an array of ones with the same shape and type as a given array.\n",
      "numpy.asanyarray\n",
      "    Convert the input to an ndarray, but pass ndarray subclasses through.\n",
      "numpy.random.Generator.multivariate_normal\n",
      "    multivariate_normal(mean, cov, size=None, check_valid='warn',\n",
      "numpy.empty_like\n",
      "    Return a new array with the same shape and type as a given array.\n",
      "numpy.frombuffer\n",
      "    Interpret a buffer as a 1-dimensional array.\n",
      "numpy.nan_to_num\n",
      "    Replace NaN with zero and infinity with large finite numbers (default\n",
      "numpy.percentile\n",
      "    Compute the q-th percentile of the data along the specified axis.\n",
      "numpy.recfromcsv\n",
      "    Load ASCII data stored in a comma-separated file.\n",
      "numpy.recfromtxt\n",
      "    Load ASCII data from a file and return it in a record array.\n",
      "numpy.trim_zeros\n",
      "    Trim the leading and/or trailing zeros from a 1-D array or sequence.\n",
      "numpy.unpackbits\n",
      "    Unpacks elements of a uint8 array into a binary-valued output array.\n",
      "numpy.zeros_like\n",
      "    Return an array of zeros with the same shape and type as a given array.\n",
      "numpy.nanquantile\n",
      "    Compute the qth quantile of the data along the specified axis,\n",
      "numpy.ma.dot\n",
      "    Return the dot product of two arrays.\n",
      "numpy.ma.exp\n",
      "    Calculate the exponential of all elements in the input array.\n",
      "numpy.random.RandomState.multivariate_normal\n",
      "    Draw random samples from a multivariate normal distribution.\n",
      "numpy.ma.ptp\n",
      "    Return (maximum - minimum) along the given dimension\n",
      "numpy.ma.var\n",
      "    Compute the variance along the specified axis.\n",
      "numpy.busday_offset\n",
      "    First adjusts the date to fall on a valid day according to\n",
      "numpy.distutils.command.build_py.build_py\n",
      "    Setuptools internal actions are organized using a *command design pattern*.\n",
      "numpy.count_nonzero\n",
      "    Counts the number of non-zero values in the array ``a``.\n",
      "numpy.distutils.command.egg_info.egg_info\n",
      "    Setuptools internal actions are organized using a *command design pattern*.\n",
      "numpy.fft.fft2\n",
      "    Compute the 2-dimensional discrete Fourier Transform.\n",
      "numpy.fft.fftn\n",
      "    Compute the N-dimensional discrete Fourier Transform.\n",
      "numpy.ma.copy\n",
      "    a.copy(order='C')\n",
      "numpy.fft.rfft\n",
      "    Compute the one-dimensional discrete Fourier Transform for real input.\n",
      "numpy.nanpercentile\n",
      "    Compute the qth percentile of the data along the specified axis,\n",
      "numpy.promote_types\n",
      "    Returns the data type with the smallest size and smallest scalar\n",
      "numpy.fft.ifft2\n",
      "    Compute the 2-dimensional inverse discrete Fourier Transform.\n",
      "numpy.fft.ifftn\n",
      "    Compute the N-dimensional inverse discrete Fourier Transform.\n",
      "numpy.fft.rfftn\n",
      "    Compute the N-dimensional discrete Fourier Transform for real input.\n",
      "numpy.ma.ravel\n",
      "    Returns a 1D version of self, as a view.\n",
      "numpy.distutils.command.build_ext.build_ext\n",
      "    Setuptools internal actions are organized using a *command design pattern*.\n",
      "numpy.distutils.command.build_src.build_src\n",
      "    Setuptools internal actions are organized using a *command design pattern*.\n",
      "numpy.fft.irfftn\n",
      "    Computes the inverse of `rfftn`.\n",
      "numpy.ma.median\n",
      "    Compute the median along the specified axis.\n",
      "numpy.bytes_.split\n",
      "    Return a list of the sections in the bytes, using sep as the delimiter.\n",
      "numpy.linalg.svd\n",
      "    Singular Value Decomposition.\n",
      "numpy.ma.polyfit\n",
      "    Least squares polynomial fit.\n",
      "numpy.may_share_memory\n",
      "    Determine if two arrays might share memory\n",
      "numpy.bytes_.decode\n",
      "    Decode the bytes using the codec registered for encoding.\n",
      "numpy.linalg.cond\n",
      "    Compute the condition number of a matrix.\n",
      "numpy.asarray_chkfinite\n",
      "    Convert the input to an array, checking for NaNs or Infs.\n",
      "numpy.linalg.norm\n",
      "    Matrix or vector norm.\n",
      "numpy.bytes_.rsplit\n",
      "    Return a list of the sections in the bytes, using sep as the delimiter.\n",
      "numpy.distutils.command.build_clib.build_clib\n",
      "    Setuptools internal actions are organized using a *command design pattern*.\n",
      "numpy.str_.split\n",
      "    Return a list of the substrings in the string, using sep as the separator string.\n",
      "numpy.bytes_.replace\n",
      "    Return a copy with all occurrences of substring old replaced by new.\n",
      "numpy.str_.encode\n",
      "    Encode the string using the codec registered for encoding.\n",
      "numpy.str_.rsplit\n",
      "    Return a list of the substrings in the string, using sep as the separator string.\n",
      "numpy.ma.ones_like\n",
      "    Return an array of ones with the same shape and type as a given array.\n",
      "numpy.chararray.copy\n",
      "    Return a copy of the array.\n",
      "numpy.matlib.randn\n",
      "    Return a random matrix with data from the \"standard normal\" distribution.\n",
      "numpy.chararray.sort\n",
      "    Sort an array in-place. Refer to `numpy.sort` for full documentation.\n",
      "numpy.chararray.view\n",
      "    New view of array with the same data.\n",
      "numpy.matrix.ravel\n",
      "    Return a flattened matrix.\n",
      "numpy.random.SFC64\n",
      "    BitGenerator for Chris Doty-Humphrey's Small Fast Chaotic PRNG.\n",
      "numpy.str_.replace\n",
      "    Return a copy with all occurrences of substring old replaced by new.\n",
      "numpy.ma.empty_like\n",
      "    empty_like(prototype, dtype=None, order='K', subok=True, shape=None)\n",
      "numpy.ma.frombuffer\n",
      "    Interpret a buffer as a 1-dimensional array.\n",
      "numpy.histogram_bin_edges\n",
      "    Function to calculate only the edges of the bins used by the `histogram`\n",
      "numpy.ma.zeros_like\n",
      "    Return an array of zeros with the same shape and type as a given array.\n",
      "numpy.chararray.astype\n",
      "    Copy of the array, cast to a specified type.\n",
      "numpy.matrix.flatten\n",
      "    Return a flattened copy of the matrix.\n",
      "numpy.distutils.command.install_clib.install_clib\n",
      "    Setuptools internal actions are organized using a *command design pattern*.\n",
      "numpy.distutils.command.install_data.install_data\n",
      "    Setuptools internal actions are organized using a *command design pattern*.\n",
      "numpy.chararray.flatten\n",
      "    Return a copy of the array collapsed into one dimension.\n",
      "numpy.chararray.tobytes\n",
      "    Construct Python bytes containing the raw data bytes in the array.\n",
      "numpy.matrix.partition\n",
      "    Rearranges the elements in the array in such a way that the value of the\n",
      "numpy.distutils.command.build_scripts.build_scripts\n",
      "    Setuptools internal actions are organized using a *command design pattern*.\n",
      "numpy.chararray.transpose\n",
      "    a.transpose(*axes)\n",
      "numpy.ma.MaskedArray.mean\n",
      "    Returns the average of the array elements along given axis.\n",
      "numpy.distutils.command.install_headers.install_headers\n",
      "    Setuptools internal actions are organized using a *command design pattern*.\n",
      "numpy.ma.MaskedArray.dot\n",
      "    Masked dot product of two arrays. Note that `out` and `strict` are\n",
      "numpy.ma.MaskedArray.ptp\n",
      "    Return (maximum - minimum) along the given dimension\n",
      "numpy.ma.MaskedArray.var\n",
      "    Compute the variance along the specified axis.\n",
      "numpy.ma.MaskedArray.copy\n",
      "    Return a copy of the array.\n",
      "numpy.random.Generator.f\n",
      "    Draw samples from an F distribution.\n",
      "numpy.testing.suppress_warnings\n",
      "    Context manager and decorator doing much the same as\n",
      "numpy.ma.MaskedArray.ravel\n",
      "    Returns a 1D version of self, as a view.\n",
      "numpy.ma.MaskedArray.filled\n",
      "    Return a copy of self, with masked values filled with a given value.\n",
      "numpy.random.RandomState.f\n",
      "    Draw samples from an F distribution.\n",
      "numpy.ma.MaskedArray.flatten\n",
      "    Return a copy of the array collapsed into one dimension.\n",
      "numpy.random.Generator.gamma\n",
      "    Draw samples from a Gamma distribution.\n",
      "numpy.polynomial.Hermite._fit\n",
      "    Least squares fit of Hermite series to data.\n",
      "numpy.ma.MaskedArray.partition\n",
      "    Rearranges the elements in the array in such a way that the value of the\n",
      "numpy.random.Generator.choice\n",
      "    Generates a random sample from a given array\n",
      "numpy.random.Generator.gumbel\n",
      "    Draw samples from a Gumbel distribution.\n",
      "numpy.ma.MaskedArray.transpose\n",
      "    a.transpose(*axes)\n",
      "numpy.random.Generator.normal\n",
      "    Draw random samples from a normal (Gaussian) distribution.\n",
      "numpy.lib.tests.test_loadtxt.test_converter_with_unicode_dtype\n",
      "    With the default 'bytes' encoding, tokens are encoded prior to being\n",
      "numpy.polynomial.HermiteE._fit\n",
      "    Least squares fit of Hermite series to data.\n",
      "numpy.polynomial.Laguerre._fit\n",
      "    Least squares fit of Laguerre series to data.\n",
      "numpy.polynomial.Legendre._fit\n",
      "    Least squares fit of Legendre series to data.\n",
      "numpy.random.Generator.laplace\n",
      "    Draw samples from the Laplace or double exponential distribution with\n",
      "numpy.random.RandomState.gamma\n",
      "    Draw samples from a Gamma distribution.\n",
      "numpy.random.RandomState.randn\n",
      "    Return a sample (or samples) from the \"standard normal\" distribution.\n",
      "numpy.polynomial.Chebyshev._fit\n",
      "    Least squares fit of Chebyshev series to data.\n",
      "numpy.random.Generator.logistic\n",
      "    Draw samples from a logistic distribution.\n",
      "numpy.random.Generator.rayleigh\n",
      "    Draw samples from a Rayleigh distribution.\n",
      "numpy.random.Generator.vonmises\n",
      "    Draw samples from a von Mises distribution.\n",
      "numpy.random.RandomState.choice\n",
      "    Generates a random sample from a given 1-D array\n",
      "numpy.random.RandomState.gumbel\n",
      "    Draw samples from a Gumbel distribution.\n",
      "numpy.random.RandomState.normal\n",
      "    Draw random samples from a normal (Gaussian) distribution.\n",
      "numpy.polynomial.Polynomial._fit\n",
      "    Least-squares fit of a polynomial to data.\n",
      "numpy.random.Generator.chisquare\n",
      "    Draw samples from a chi-square distribution.\n",
      "numpy.random.RandomState.laplace\n",
      "    Draw samples from the Laplace or double exponential distribution with\n",
      "numpy.linalg._umath_linalg.lstsq_n\n",
      "    least squares on the last two dimensions and broadcast to the rest.\n",
      "numpy.random.Generator.standard_t\n",
      "    Draw samples from a standard Student's t distribution with `df` degrees\n",
      "numpy.random.RandomState.logistic\n",
      "    Draw samples from a logistic distribution.\n",
      "numpy.random.RandomState.rayleigh\n",
      "    Draw samples from a Rayleigh distribution.\n",
      "numpy.random.RandomState.vonmises\n",
      "    Draw samples from a von Mises distribution.\n",
      "numpy.random.RandomState.chisquare\n",
      "    Draw samples from a chi-square distribution.\n",
      "numpy.lib.recfunctions.repack_fields\n",
      "    Re-pack the fields of a structured array or dtype in memory.\n",
      "numpy.random.Generator.noncentral_f\n",
      "    Draw samples from the noncentral F distribution.\n",
      "numpy.random.RandomState.standard_t\n",
      "    Draw samples from a standard Student's t distribution with `df` degrees\n",
      "numpy.tests.test_warnings.FindFuncs\n",
      "    A node visitor base class that walks the abstract syntax tree and calls a\n",
      "numpy.tests.test_warnings.ParseCall\n",
      "    A node visitor base class that walks the abstract syntax tree and calls a\n",
      "numpy.distutils.command.bdist_rpm.bdist_rpm.set_undefined_options\n",
      "    Set the values of any \"undefined\" options from corresponding\n",
      "numpy.random.Generator.standard_gamma\n",
      "    Draw samples from a standard Gamma distribution.\n",
      "numpy.random.RandomState.noncentral_f\n",
      "    Draw samples from the noncentral F distribution.\n",
      "numpy.distutils.numpy_distribution.NumpyDistribution._set_command_options\n",
      "    Set the options for 'command_obj' from 'option_dict'.  Basically\n",
      "numpy.random.RandomState.standard_gamma\n",
      "    Draw samples from a standard Gamma distribution.\n",
      "numpy.lib.recfunctions.apply_along_fields\n",
      "    Apply function 'func' as a reduction across fields of a structured array.\n",
      "numpy.random.Generator.negative_binomial\n",
      "    Draw samples from a negative binomial distribution.\n",
      "numpy.lib.recfunctions.assign_fields_by_name\n",
      "    Assigns values from one structured array to another by field name.\n",
      "numpy.distutils.fcompiler.FCompiler.link\n",
      "    Link a bunch of stuff together to create an executable or\n",
      "numpy.lib.recfunctions.structured_to_unstructured\n",
      "    Converts an n-D structured array into an (n+1)-D unstructured array.\n",
      "numpy.distutils.armccompiler.ArmCCompiler.link\n",
      "    Link a bunch of stuff together to create an executable or\n",
      "numpy.distutils.tests.test_ccompiler_opt_conf.TestConfFeatures._formatMessage\n",
      "    Honour the longMessage attribute when generating failure messages.\n",
      "numpy.testing._private.nosetester.NoseTester\n",
      "    Nose test runner.\n",
      "numpy.distutils.intelccompiler.IntelCCompilerW.link\n",
      "    Link a bunch of stuff together to create an executable or\n",
      "numpy.ma.tests.test_core.suppress_copy_mask_on_assignment\n",
      "    Context manager and decorator doing much the same as\n",
      "numpy.testing._private.nosetester.NoseTester._get_custom_doctester\n",
      "    Return instantiated plugin for doctests\n",
      "numpy.lib.tests.test_histograms.TestHistogramOptimBinNums.test_outlier\n",
      "    Check the FD, Scott and Doane with outliers.None\n"
     ]
    }
   ],
   "source": [
    "print(np.lookfor(\"mean\"))"
   ]
  },
  {
   "cell_type": "code",
   "execution_count": 120,
   "id": "38f9b609-d4e3-4029-bcf6-bfa7a09f68ab",
   "metadata": {
    "tags": []
   },
   "outputs": [
    {
     "name": "stdout",
     "output_type": "stream",
     "text": [
      "Data-type of the array's elements.\n",
      "\n",
      ".. warning::\n",
      "\n",
      "    Setting ``arr.dtype`` is discouraged and may be deprecated in the\n",
      "    future.  Setting will replace the ``dtype`` without modifying the\n",
      "    memory (see also `ndarray.view` and `ndarray.astype`).\n",
      "\n",
      "Parameters\n",
      "----------\n",
      "None\n",
      "\n",
      "Returns\n",
      "-------\n",
      "d : numpy dtype object\n",
      "\n",
      "See Also\n",
      "--------\n",
      "ndarray.astype : Cast the values contained in the array to a new data-type.\n",
      "ndarray.view : Create a view of the same data but a different data-type.\n",
      "numpy.dtype\n",
      "\n",
      "Examples\n",
      "--------\n",
      ">>> x\n",
      "array([[0, 1],\n",
      "       [2, 3]])\n",
      ">>> x.dtype\n",
      "dtype('int32')\n",
      ">>> type(x.dtype)\n",
      "<type 'numpy.dtype'>\n"
     ]
    }
   ],
   "source": [
    "# Get info on data types with `np.info()`\n",
    "np.info(np.ndarray.dtype)"
   ]
  },
  {
   "cell_type": "code",
   "execution_count": 113,
   "id": "28110f9b-4ec3-4757-91dd-943dc768f1ee",
   "metadata": {
    "tags": []
   },
   "outputs": [
    {
     "name": "stdout",
     "output_type": "stream",
     "text": [
      "[[1 2 3 4]\n",
      " [5 6 7 8]]\n",
      "[[1 5]\n",
      " [2 6]\n",
      " [3 7]\n",
      " [4 8]]\n",
      "[[1 5]\n",
      " [2 6]\n",
      " [3 7]\n",
      " [4 8]]\n"
     ]
    }
   ],
   "source": [
    "# Tramspose your matrix\n",
    "my_2d_array = np.array([[1,2,3,4], [5,6,7,8]], dtype=np.int64)\n",
    "\n",
    "# Print `my_2d_array`\n",
    "print(my_2d_array)\n",
    "\n",
    "# Transpose `my_2d_array`\n",
    "print(np.transpose(my_2d_array))\n",
    "\n",
    "# Or use `T` to transpose `my_2d_array`\n",
    "print(my_2d_array.T)"
   ]
  },
  {
   "cell_type": "code",
   "execution_count": 117,
   "id": "ffc81469-69b0-4c64-b711-493afb246954",
   "metadata": {
    "tags": []
   },
   "outputs": [
    {
     "name": "stdout",
     "output_type": "stream",
     "text": [
      "[[1. 1. 1. 1.]\n",
      " [1. 1. 1. 1.]\n",
      " [1. 1. 1. 1.]] \n",
      "\n",
      "(3, 4)\n",
      "\n",
      " [[1. 1. 1. 1.]\n",
      " [1. 1. 1. 1.]\n",
      " [1. 1. 1. 1.]\n",
      " [0. 0. 0. 0.]\n",
      " [0. 0. 0. 0.]\n",
      " [0. 0. 0. 0.]]\n"
     ]
    }
   ],
   "source": [
    "# Reshaping X\n",
    "x = np.ones((3,4))\n",
    "print(x,'\\n')\n",
    "# Print the shape of `x`\n",
    "print(x.shape)\n",
    "\n",
    "# Resize `x` to ((6,4))\n",
    "np.resize(x, (6,4))\n",
    "\n",
    "# Try out this as well\n",
    "x.resize((6,4))\n",
    "\n",
    "# Print out `x`\n",
    "print('\\n',x)"
   ]
  },
  {
   "cell_type": "raw",
   "id": "e4862f90-2df8-4a18-a150-8365b322230c",
   "metadata": {},
   "source": [
    "Visualize Numpy Array"
   ]
  },
  {
   "cell_type": "code",
   "execution_count": 118,
   "id": "50f12ca6-2632-43f0-a648-d13e7c59e671",
   "metadata": {
    "tags": []
   },
   "outputs": [
    {
     "name": "stdout",
     "output_type": "stream",
     "text": [
      "(array([4, 2, 2, 1, 1, 1, 1, 1, 1, 2], dtype=int64), array([ 1. ,  2.1,  3.2,  4.3,  5.4,  6.5,  7.6,  8.7,  9.8, 10.9, 12. ]))\n",
      "(array([0, 2, 2, 2, 2, 1, 1, 1, 1, 1, 1, 2], dtype=int64), array([ 0,  1,  2,  3,  4,  5,  6,  7,  8,  9, 10, 11, 12]))\n"
     ]
    }
   ],
   "source": [
    "''' Visualize with Histogram '''\n",
    "# Initialize your array\n",
    "my_3d_array = np.array([[[1,2,3,4], [5,6,7,8]], [[1,2,3,4], [9,10,11,12]]], dtype=np.int64)\n",
    "\n",
    "# Pass the array to `np.histogram()`\n",
    "print(np.histogram(my_3d_array))\n",
    "\n",
    "# Specify the number of bins\n",
    "print(np.histogram(my_3d_array, bins=range(0,13)))"
   ]
  },
  {
   "cell_type": "code",
   "execution_count": 119,
   "id": "a5684e15-ad4e-4b99-b4e6-27275c5e2f10",
   "metadata": {
    "tags": []
   },
   "outputs": [
    {
     "data": {
      "image/png": "[encoded data removed]",
      "text/plain": [
       "<Figure size 640x480 with 1 Axes>"
      ]
     },
     "metadata": {},
     "output_type": "display_data"
    }
   ],
   "source": [
    "import matplotlib.pyplot as plt\n",
    "\n",
    "# Construct the histogram with a flattened 3d array and a range of bins\n",
    "plt.hist(my_3d_array.ravel(), bins=range(0,13))\n",
    "\n",
    "# Add a title to the plot\n",
    "plt.title('Frequency of My 3D Array Elements')\n",
    "\n",
    "# Show the plot\n",
    "plt.show()"
   ]
  },
  {
   "cell_type": "code",
   "execution_count": null,
   "id": "c2db7449-e70c-48bb-a726-614f06145941",
   "metadata": {},
   "outputs": [],
   "source": []
  }
 ],
 "metadata": {
  "kernelspec": {
   "display_name": "Python 3 (ipykernel)",
   "language": "python",
   "name": "python3"
  },
  "language_info": {
   "codemirror_mode": {
    "name": "ipython",
    "version": 3
   },
   "file_extension": ".py",
   "mimetype": "text/x-python",
   "name": "python",
   "nbconvert_exporter": "python",
   "pygments_lexer": "ipython3",
   "version": "3.11.4"
  }
 },
 "nbformat": 4,
 "nbformat_minor": 5
}
