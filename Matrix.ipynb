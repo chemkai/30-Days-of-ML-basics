{
  "nbformat": 4,
  "nbformat_minor": 0,
  "metadata": {
    "colab": {
      "provenance": [],
      "authorship_tag": "ABX9TyPAaRFpVkXoNbTa5BHDoNcJ",
      "include_colab_link": true
    },
    "kernelspec": {
      "name": "python3",
      "display_name": "Python 3"
    },
    "language_info": {
      "name": "python"
    }
  },
  "cells": [
    {
      "cell_type": "markdown",
      "metadata": {
        "id": "view-in-github",
        "colab_type": "text"
      },
      "source": [
        "<a href=\"https://colab.research.google.com/github/chemkai/30-Days-of-ML-basics/blob/main/Matrix.ipynb\" target=\"_parent\"><img src=\"https://colab.research.google.com/assets/colab-badge.svg\" alt=\"Open In Colab\"/></a>"
      ]
    },
    {
      "cell_type": "code",
      "execution_count": 1,
      "metadata": {
        "id": "TjlvzE5L7pV7"
      },
      "outputs": [],
      "source": [
        "import numpy as np"
      ]
    },
    {
      "cell_type": "markdown",
      "source": [
        "**Creating a matrix using Numpy**"
      ],
      "metadata": {
        "id": "H8EEN_T--SpN"
      }
    },
    {
      "cell_type": "code",
      "source": [
        "matrix_1 = np.array([[2,3], [6,7]])\n",
        "print(matrix_1)"
      ],
      "metadata": {
        "colab": {
          "base_uri": "https://localhost:8080/"
        },
        "id": "kvPE8EnN-RGV",
        "outputId": "ed10f5ea-3cd1-4979-cda3-a3074748090c"
      },
      "execution_count": 5,
      "outputs": [
        {
          "output_type": "stream",
          "name": "stdout",
          "text": [
            "[[2 3]\n",
            " [6 7]]\n"
          ]
        },
        {
          "output_type": "execute_result",
          "data": {
            "text/plain": [
              "(2, 2)"
            ]
          },
          "metadata": {},
          "execution_count": 5
        }
      ]
    },
    {
      "cell_type": "code",
      "source": [
        "matrix_1.shape"
      ],
      "metadata": {
        "colab": {
          "base_uri": "https://localhost:8080/"
        },
        "id": "bGgTfqoc-8cR",
        "outputId": "443d6a5e-a874-41d9-b7d7-98462d963a7e"
      },
      "execution_count": 6,
      "outputs": [
        {
          "output_type": "execute_result",
          "data": {
            "text/plain": [
              "(2, 2)"
            ]
          },
          "metadata": {},
          "execution_count": 6
        }
      ]
    },
    {
      "cell_type": "code",
      "source": [
        "matrix_2 = np.array([[11,34,41], [34,23,12], [32,21,56]])\n",
        "print(matrix_2)"
      ],
      "metadata": {
        "colab": {
          "base_uri": "https://localhost:8080/"
        },
        "id": "wyrTU-2e_Jr6",
        "outputId": "034228db-0f52-459b-8183-8263f62c4cbc"
      },
      "execution_count": 7,
      "outputs": [
        {
          "output_type": "stream",
          "name": "stdout",
          "text": [
            "[[11 34 41]\n",
            " [34 23 12]\n",
            " [32 21 56]]\n"
          ]
        }
      ]
    },
    {
      "cell_type": "code",
      "source": [
        "matrix_2.shape"
      ],
      "metadata": {
        "colab": {
          "base_uri": "https://localhost:8080/"
        },
        "id": "IfkpewA__bQr",
        "outputId": "ce86a6f6-7cfc-4f61-fb10-142fa61f5e39"
      },
      "execution_count": 8,
      "outputs": [
        {
          "output_type": "execute_result",
          "data": {
            "text/plain": [
              "(3, 3)"
            ]
          },
          "metadata": {},
          "execution_count": 8
        }
      ]
    },
    {
      "cell_type": "markdown",
      "source": [
        "**Creating Matrices with random value**"
      ],
      "metadata": {
        "id": "3_RAaSi1AOXc"
      }
    },
    {
      "cell_type": "code",
      "source": [
        "random_matrix = np.random.rand(3,3)\n",
        "print(random_matrix)"
      ],
      "metadata": {
        "colab": {
          "base_uri": "https://localhost:8080/"
        },
        "id": "nGbgnYrOAOA7",
        "outputId": "ff6ad161-b7a2-4db5-b44b-70c5417231c1"
      },
      "execution_count": 9,
      "outputs": [
        {
          "output_type": "stream",
          "name": "stdout",
          "text": [
            "[[0.89523877 0.0531197  0.54302853]\n",
            " [0.37340036 0.41832004 0.4155465 ]\n",
            " [0.4762376  0.93136509 0.7844263 ]]\n"
          ]
        }
      ]
    },
    {
      "cell_type": "code",
      "source": [
        "# Creating a matrix with random integer values\n",
        "random_int_matrix = np.random.randint(100,size=(3,4))\n",
        "print(random_int_matrix)"
      ],
      "metadata": {
        "colab": {
          "base_uri": "https://localhost:8080/"
        },
        "id": "LIZ6pDOR_c4c",
        "outputId": "1ae9ec6c-d4e6-4825-9084-1323ac68ce89"
      },
      "execution_count": 14,
      "outputs": [
        {
          "output_type": "stream",
          "name": "stdout",
          "text": [
            "[[79 75 76  4]\n",
            " [56 65 13  1]\n",
            " [96 24 21 94]]\n"
          ]
        }
      ]
    },
    {
      "cell_type": "markdown",
      "source": [
        "**Matrix with all the values as 1**"
      ],
      "metadata": {
        "id": "B-n9IvE7BBfe"
      }
    },
    {
      "cell_type": "code",
      "source": [
        "matrix_3 = np.ones((2,3))\n",
        "print(matrix_3)"
      ],
      "metadata": {
        "colab": {
          "base_uri": "https://localhost:8080/"
        },
        "id": "YcrGapgIA0ai",
        "outputId": "6efd7970-0e8f-43d8-c8b7-e5a270b99569"
      },
      "execution_count": 12,
      "outputs": [
        {
          "output_type": "stream",
          "name": "stdout",
          "text": [
            "[[1. 1. 1.]\n",
            " [1. 1. 1.]]\n"
          ]
        }
      ]
    },
    {
      "cell_type": "code",
      "source": [
        "# Matrix with integer 1\n",
        "matrix_4 = np.ones((2,3), dtype=int)\n",
        "print(matrix_4)"
      ],
      "metadata": {
        "colab": {
          "base_uri": "https://localhost:8080/"
        },
        "id": "1JljPMPQBM-K",
        "outputId": "1ffae901-1416-4231-e437-3370424ca5f8"
      },
      "execution_count": 15,
      "outputs": [
        {
          "output_type": "stream",
          "name": "stdout",
          "text": [
            "[[1 1 1]\n",
            " [1 1 1]]\n"
          ]
        }
      ]
    },
    {
      "cell_type": "code",
      "source": [
        "# Matrix with float\n",
        "matrix_5 = np.ones((2,3), dtype=float)\n",
        "print(matrix_5)"
      ],
      "metadata": {
        "colab": {
          "base_uri": "https://localhost:8080/"
        },
        "id": "038YBtW3Bipv",
        "outputId": "74f417fa-3d96-491e-8493-c15b923d3d25"
      },
      "execution_count": 18,
      "outputs": [
        {
          "output_type": "stream",
          "name": "stdout",
          "text": [
            "[[1. 1. 1.]\n",
            " [1. 1. 1.]]\n"
          ]
        }
      ]
    },
    {
      "cell_type": "markdown",
      "source": [
        "**Null matrix OR Zero matrix**"
      ],
      "metadata": {
        "id": "i2JFpT9NB1YE"
      }
    },
    {
      "cell_type": "code",
      "source": [
        "matrix_6 = np.zeros((3,4))\n",
        "print(matrix_6)"
      ],
      "metadata": {
        "colab": {
          "base_uri": "https://localhost:8080/"
        },
        "id": "qDiMsPw5BuFo",
        "outputId": "4a486d9a-260b-4fc7-ab8e-b59d1ba6bbf1"
      },
      "execution_count": 19,
      "outputs": [
        {
          "output_type": "stream",
          "name": "stdout",
          "text": [
            "[[0. 0. 0. 0.]\n",
            " [0. 0. 0. 0.]\n",
            " [0. 0. 0. 0.]]\n"
          ]
        }
      ]
    },
    {
      "cell_type": "markdown",
      "source": [
        "**Identity Matrix**"
      ],
      "metadata": {
        "id": "nTTBMAckCEzs"
      }
    },
    {
      "cell_type": "code",
      "source": [
        "indentity_Matrix = np.eye(3,3)\n",
        "print(indentity_Matrix)"
      ],
      "metadata": {
        "colab": {
          "base_uri": "https://localhost:8080/"
        },
        "id": "7lmAiOr-CBVy",
        "outputId": "e354092f-761e-4461-de83-c1659d740ae3"
      },
      "execution_count": 20,
      "outputs": [
        {
          "output_type": "stream",
          "name": "stdout",
          "text": [
            "[[1. 0. 0.]\n",
            " [0. 1. 0.]\n",
            " [0. 0. 1.]]\n"
          ]
        }
      ]
    },
    {
      "cell_type": "code",
      "source": [
        "# Identity matrix with integer values\n",
        "indentity_Matrix = np.eye(3,3,dtype=int)\n",
        "print(indentity_Matrix)"
      ],
      "metadata": {
        "colab": {
          "base_uri": "https://localhost:8080/"
        },
        "id": "ach7LIuHCUxU",
        "outputId": "ecc36f3a-bf99-498d-a7b4-96e682d27bc4"
      },
      "execution_count": 22,
      "outputs": [
        {
          "output_type": "stream",
          "name": "stdout",
          "text": [
            "[[1 0 0]\n",
            " [0 1 0]\n",
            " [0 0 1]]\n"
          ]
        }
      ]
    },
    {
      "cell_type": "markdown",
      "source": [
        "**Transpose of a matrix**"
      ],
      "metadata": {
        "id": "e6g9yoIdCfHz"
      }
    },
    {
      "cell_type": "code",
      "source": [
        "# Matrix with random integer values\n",
        "matrix_7 = np.random.randint(100,size=(5,6))\n",
        "print(matrix_7)"
      ],
      "metadata": {
        "colab": {
          "base_uri": "https://localhost:8080/"
        },
        "id": "7G3oEBD3CYQ4",
        "outputId": "f8a278a3-fa78-4429-a00d-3ec4a5ec9490"
      },
      "execution_count": 24,
      "outputs": [
        {
          "output_type": "stream",
          "name": "stdout",
          "text": [
            "[[ 6 14 92 25 60 99]\n",
            " [18 24 77 26 61 84]\n",
            " [60 87 61 45 14  0]\n",
            " [35 14 40 99 55 24]\n",
            " [88 28 17 67 90 21]]\n"
          ]
        }
      ]
    },
    {
      "cell_type": "code",
      "source": [
        "# Transpose of a matrix\n",
        "transpose_matrix = np.transpose(matrix_7)\n",
        "print(transpose_matrix)"
      ],
      "metadata": {
        "colab": {
          "base_uri": "https://localhost:8080/"
        },
        "id": "HSHE66pzCxRe",
        "outputId": "403af24e-0a46-4dfd-b9f6-4cfd5a4e2792"
      },
      "execution_count": 25,
      "outputs": [
        {
          "output_type": "stream",
          "name": "stdout",
          "text": [
            "[[ 6 18 60 35 88]\n",
            " [14 24 87 14 28]\n",
            " [92 77 61 40 17]\n",
            " [25 26 45 99 67]\n",
            " [60 61 14 55 90]\n",
            " [99 84  0 24 21]]\n"
          ]
        }
      ]
    }
  ]
}